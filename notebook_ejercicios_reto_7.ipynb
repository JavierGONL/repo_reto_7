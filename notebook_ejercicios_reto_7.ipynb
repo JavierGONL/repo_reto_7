{
 "cells": [
  {
   "cell_type": "code",
   "execution_count": null,
   "metadata": {},
   "outputs": [],
   "source": [
    "def cuadrados(lista : int) -> int:\n",
    "    return lista ** 2\n",
    "\n",
    "if __name__ == \"__main__\":\n",
    "    lista : int = 1\n",
    "    while lista <= 100:\n",
    "        print(\"cuadrado del:\",lista,cuadrados(lista))\n",
    "        lista += 1\n",
    "    print(\"Fin del while loop\")"
   ]
  },
  {
   "cell_type": "code",
   "execution_count": null,
   "metadata": {},
   "outputs": [],
   "source": [
    "if __name__ == \"__main__\":\n",
    "    pares : int = 2\n",
    "    impares : int = 1\n",
    "\n",
    "    while pares <= 1000:\n",
    "        print(\"pares:\",pares)\n",
    "        pares += 2\n",
    "    print(\"Fin del while loop pares\")\n",
    "\n",
    "    while impares <= 1000 and impares % 2 != 0:\n",
    "        print(\"impares:\",impares)\n",
    "        impares += 2\n",
    "    print(\"Fin del while loop impares\")"
   ]
  },
  {
   "cell_type": "code",
   "execution_count": null,
   "metadata": {},
   "outputs": [],
   "source": [
    "#Imprimir los números pares en forma descendente hasta 2 que son menores o iguales a un número natural n ≥ 2 dado\n",
    "\n",
    "if __name__ == \"__main__\":    \n",
    "    numeroN = int(input(\"Ingrese un número: \"))\n",
    "    if numeroN % 2 == 0:\n",
    "        while numeroN >= 2 and numeroN % 2 == 0:\n",
    "            print(numeroN)\n",
    "            numeroN -= 2\n",
    "    else:\n",
    "        numeroN -= 1\n",
    "        while numeroN >= 2 and numeroN % 2 != 0:\n",
    "            print(numeroN)\n",
    "            numeroN -= 2"
   ]
  },
  {
   "cell_type": "code",
   "execution_count": null,
   "metadata": {},
   "outputs": [],
   "source": [
    "#En 2022 el país A tendrá una población de 25 millones de habitantes y el país B de 18.9 millones. \n",
    "#Las tasas de crecimiento anual de la población serán de 2% y 3% respectivamente. \n",
    "#Desarrollar un algoritmo para informar en que año la población del país B superará a la de A.\n",
    "\n",
    "if __name__ == \"__main__\":\n",
    "    pais_A_poblacion : float = 22000000\n",
    "    pais_B_poblacion : float = 18900000\n",
    "    tasa_crecimiento_pais_A : float = 0.02\n",
    "    tasa_crecimiento_pais_B : float = 0.03\n",
    "    tiempo : int = 0\n",
    "    while pais_B_poblacion < pais_A_poblacion:\n",
    "        pais_A_poblacion = pais_A_poblacion * (1 + tasa_crecimiento_pais_A) ** tiempo\n",
    "        pais_B_poblacion = pais_B_poblacion * (1 + tasa_crecimiento_pais_B) ** tiempo\n",
    "        tiempo += 1\n",
    "    print(\"desdes el 2022 La población de B supero a la poblacion de A en\", tiempo, \"años\")\n",
    "    print(\"Población de A:\", pais_A_poblacion)\n",
    "    print(\"Población de B:\", pais_B_poblacion)"
   ]
  },
  {
   "cell_type": "code",
   "execution_count": null,
   "metadata": {},
   "outputs": [],
   "source": [
    "if __name__ == \"__main__\":\n",
    "    numeroN = int(input(\"Ingrese un numero entero positivo: \"))\n",
    "    factorial = 1\n",
    "\n",
    "    while numeroN > 0:\n",
    "        factorial *= numeroN\n",
    "        numeroN -= 1\n",
    "    print(\"El resultado del factorial es: \", factorial)"
   ]
  },
  {
   "cell_type": "code",
   "execution_count": null,
   "metadata": {},
   "outputs": [],
   "source": [
    "if __name__ == \"__main__\":\n",
    "    print(\"este programa adivinada el numero que estas pensando\")\n",
    "    print(\"Piensa en un numero entero entre 1 y 100\")\n",
    "    print(\"El programa intentara adivinar el numero que estas pensando\")\n",
    "    print(\"Si el numero que el programa te da es mayor que el tuyo escribe 'M'\")\n",
    "    print(\"Si el numero que el programa te da es menor que el tuyo escribe 'm'\")\n",
    "    print(\"Si el numero que el programa te da es el correcto escribe 'OK'\")\n",
    "    print(\"en un punto te preguntara mas informacion que se respondera de manera diferente\")\n",
    "    \n",
    "    while True:\n",
    "        minimo = 1\n",
    "        maximo = 100\n",
    "        while True:\n",
    "            numero = (minimo + maximo) // 2\n",
    "            print(\"Estas pensando en el numero\", numero, \"?\")\n",
    "            respuesta = input(\"Escribe 'M', 'm' o 'OK': \")\n",
    "            if respuesta == \"OK\":\n",
    "                print(\"El programa ha adivinado el numero que estabas pensando\")\n",
    "                break\n",
    "            elif respuesta == \"m\":\n",
    "                maximo = numero - 1\n",
    "            elif respuesta == \"M\":\n",
    "                minimo = numero + 1\n",
    "            elif respuesta == \"salir\":\n",
    "                break\n",
    "            else:\n",
    "                print(\"ingrese solo las letras establecidas\")"
   ]
  },
  {
   "cell_type": "code",
   "execution_count": null,
   "metadata": {},
   "outputs": [],
   "source": [
    "def divisores (numeroN,divisor)->float:\n",
    "    if numeroN % divisor == 0:\n",
    "        return True \n",
    "    else:\n",
    "        return False\n",
    "    \n",
    "if __name__ == \"__main__\":\n",
    "    numeroN = int(input(\"Ingrese un numero entero positivo(numero entre 2 y 50): \"))\n",
    "    if numeroN < 2 or numeroN > 50:\n",
    "        print(\"El numero ingresado no es valido\")\n",
    "    else:\n",
    "        divisor = 2\n",
    "        while divisor <= numeroN and numeroN < 50:\n",
    "            if divisores(numeroN,divisor):\n",
    "                print(divisor)\n",
    "            divisor += 1 \n",
    "        print(\"Fin del ejercicio 7 reto 8 \")"
   ]
  },
  {
   "cell_type": "code",
   "execution_count": null,
   "metadata": {},
   "outputs": [],
   "source": [
    "def es_primo (numero):\n",
    "  conteo=2\n",
    "  divisores=1\n",
    "  while conteo<=numero and divisores <=2:\n",
    "    comprobacionSiEsDivisor = numero % conteo\n",
    "    if comprobacionSiEsDivisor == 0:\n",
    "      divisores=divisores+1\n",
    "    conteo=conteo+1\n",
    "  if divisores == 3:\n",
    "    return False\n",
    "  else: \n",
    "    return True\n",
    "  \n",
    "if __name__ == \"__main__\":\n",
    "    numero=0\n",
    "while numero<=100:\n",
    "  if es_primo(numero):\n",
    "    print(numero)\n",
    "  numero=numero+1\n",
    "print(\"Fin del ejercicio 8 reto 7 \")"
   ]
  }
 ],
 "metadata": {
  "language_info": {
   "name": "python"
  }
 },
 "nbformat": 4,
 "nbformat_minor": 2
}
